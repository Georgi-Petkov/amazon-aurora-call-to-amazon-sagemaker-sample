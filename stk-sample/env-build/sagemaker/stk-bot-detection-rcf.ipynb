{
 "cells": [
  {
   "cell_type": "markdown",
   "metadata": {},
   "source": [
    "## Install packages"
   ]
  },
  {
   "cell_type": "code",
   "execution_count": 1,
   "metadata": {},
   "outputs": [
    {
     "name": "stdout",
     "output_type": "stream",
     "text": [
      "Requirement already satisfied: mysql-connector-python in /home/ec2-user/anaconda3/envs/pytorch_latest_p36/lib/python3.6/site-packages (8.0.21)\n",
      "Requirement already satisfied: protobuf>=3.0.0 in /home/ec2-user/anaconda3/envs/pytorch_latest_p36/lib/python3.6/site-packages (from mysql-connector-python) (3.13.0)\n",
      "Requirement already satisfied: six>=1.9 in /home/ec2-user/anaconda3/envs/pytorch_latest_p36/lib/python3.6/site-packages (from protobuf>=3.0.0->mysql-connector-python) (1.15.0)\n",
      "Requirement already satisfied: setuptools in /home/ec2-user/anaconda3/envs/pytorch_latest_p36/lib/python3.6/site-packages (from protobuf>=3.0.0->mysql-connector-python) (49.2.0.post20200714)\n"
     ]
    },
    {
     "name": "stderr",
     "output_type": "stream",
     "text": [
      "bash: line 2: /home/ec2-user/SageMaker/amazon-aurora-call-to-amazon-sagemaker-sample/stk-sample/env-build/sagemaker/env: No such file or directory\n",
      "WARNING: You are using pip version 20.1.1; however, version 20.2.3 is available.\n",
      "You should consider upgrading via the '/home/ec2-user/anaconda3/envs/pytorch_latest_p36/bin/python -m pip install --upgrade pip' command.\n"
     ]
    }
   ],
   "source": [
    "    %%bash \n",
    "home=`pwd`\n",
    ". $home/env\n",
    "pip3 install mysql-connector-python"
   ]
  },
  {
   "cell_type": "code",
   "execution_count": 500,
   "metadata": {},
   "outputs": [
    {
     "name": "stdout",
     "output_type": "stream",
     "text": [
      "arn:aws:iam::163538056407:role/service-role/AmazonSageMaker-ExecutionRole-20200913T212219\n"
     ]
    }
   ],
   "source": [
    "import sagemaker\n",
    "execution_role = sagemaker.get_execution_role()\n",
    "print(execution_role)"
   ]
  },
  {
   "cell_type": "markdown",
   "metadata": {},
   "source": [
    "## Get train and test data from Aurora DB"
   ]
  },
  {
   "cell_type": "code",
   "execution_count": 2,
   "metadata": {},
   "outputs": [
    {
     "name": "stdout",
     "output_type": "stream",
     "text": [
      "CPU times: user 178 ms, sys: 24.9 ms, total: 203 ms\n",
      "Wall time: 1.21 s\n"
     ]
    }
   ],
   "source": [
    "%%time\n",
    "\n",
    "import json\n",
    "import boto3\n",
    "import csv\n",
    "import mysql.connector\n",
    "import sys\n",
    "import os\n",
    "import configparser\n",
    "\n",
    "config = configparser.ConfigParser()\n",
    "\n",
    "config.read('rds.ini')\n",
    "\n",
    "ENDPOINT=config['default']['ENDPOINT']\n",
    "USR=config['default']['USR']\n",
    "PASWD=config['default']['PASWD']\n",
    "REGION=config['default']['REGION']\n",
    "DBNAME=config['default']['DBNAME']\n",
    "\n",
    "client = boto3.client('rds')"
   ]
  },
  {
   "cell_type": "markdown",
   "metadata": {},
   "source": [
    "Getting the right size of the grouping"
   ]
  },
  {
   "cell_type": "code",
   "execution_count": 475,
   "metadata": {},
   "outputs": [
    {
     "name": "stdout",
     "output_type": "stream",
     "text": [
      "actions_size=32290\n",
      "modulo_size=322.9\n",
      "CPU times: user 16.5 ms, sys: 4.11 ms, total: 20.6 ms\n",
      "Wall time: 93.9 ms\n"
     ]
    }
   ],
   "source": [
    "%%time\n",
    "import pandas as pd\n",
    "\n",
    "group_size=100\n",
    "\n",
    "try:\n",
    "  conn =  mysql.connector.connect(host=ENDPOINT, user=USR, passwd=PASWD, port=3306, database=DBNAME)\n",
    "  cur = conn.cursor()\n",
    "  cur.execute(\"\"\"SELECT count(id) from actions where class is not null\"\"\")\n",
    "  actions_size_list=cur.fetchall()\n",
    "  actions_size_df=pd.DataFrame(actions_size_list)\n",
    "  actions_size=actions_size_df[0].values[0]\n",
    "  print(\"actions_size=\"+str(actions_size))\n",
    "  modulo_size=actions_size/group_size\n",
    "  print(\"modulo_size=\"+str(modulo_size))\n",
    "except Exception as e:\n",
    "  print(\"Database connection failed due to {}\".format(e))"
   ]
  },
  {
   "cell_type": "code",
   "execution_count": 476,
   "metadata": {},
   "outputs": [
    {
     "name": "stdout",
     "output_type": "stream",
     "text": [
      "CPU times: user 115 ms, sys: 13.3 ms, total: 128 ms\n",
      "Wall time: 221 ms\n"
     ]
    }
   ],
   "source": [
    "%%time\n",
    "import pandas as pd\n",
    "\n",
    "#SELECT FLOOR(id/25) sessionid,id,m_ticks,m_kart_id,m_action,m_value,m_value_l,m_value_r,class\n",
    "\n",
    "modulo_size=224\n",
    "\n",
    "try:\n",
    "  conn =  mysql.connector.connect(host=ENDPOINT, user=USR, passwd=PASWD, port=3306, database=DBNAME)\n",
    "  cur = conn.cursor()\n",
    "  \n",
    "  cur.execute(\"\"\"SELECT id,m_ticks,m_action,m_value,m_value_l,m_value_r,class FROM actions WHERE class=0 order by id\"\"\")\n",
    "  bot_action_list=cur.fetchall()\n",
    "  cur.execute(\"\"\"SELECT id,m_ticks,m_action,m_value,m_value_l,m_value_r,class FROM actions WHERE class=1 order by id\"\"\")\n",
    "  player_action_list=cur.fetchall()  \n",
    "  cur.execute(\"\"\"\n",
    "                  SELECT FLOOR(id/100) sessionid,id,m_ticks,m_kart_id,m_action,m_value,m_value_l,m_value_r,class\n",
    "                  FROM actions \n",
    "                  WHERE class IS NOT NULL\n",
    "                  ORDER BY id,m_kart_id \n",
    "              \"\"\")\n",
    "  action_list=cur.fetchall()  \n",
    "except Exception as e:\n",
    "  print(\"Database connection failed due to {}\".format(e))\n",
    "  "
   ]
  },
  {
   "cell_type": "markdown",
   "metadata": {},
   "source": [
    "## Prepare the game players actions "
   ]
  },
  {
   "cell_type": "code",
   "execution_count": 477,
   "metadata": {},
   "outputs": [
    {
     "name": "stdout",
     "output_type": "stream",
     "text": [
      "Index(['sessionid', 'id', 'm_ticks', 'm_kart_id', 'm_action', 'm_value',\n",
      "       'm_value_l', 'm_value_r', 'class'],\n",
      "      dtype='object')\n",
      "sessionid    32290\n",
      "id           32290\n",
      "m_ticks      32290\n",
      "m_kart_id    32290\n",
      "m_action     32290\n",
      "m_value      32290\n",
      "m_value_l    32290\n",
      "m_value_r    32290\n",
      "class        32290\n",
      "dtype: int64\n"
     ]
    }
   ],
   "source": [
    "actions = pd.DataFrame(action_list)\n",
    "actions.rename(columns={0:'sessionid',\n",
    "                        1:'id',\n",
    "                        2:'m_ticks',\n",
    "                        3:'m_kart_id',\n",
    "                        4:'m_action',\n",
    "                        5:'m_value',\n",
    "                        6:'m_value_l',\n",
    "                        7:'m_value_r',\n",
    "                        8:'class'\n",
    "                     }, \n",
    "                 inplace=True)\n",
    "print(actions.columns)\n",
    "print(actions.count())"
   ]
  },
  {
   "cell_type": "markdown",
   "metadata": {},
   "source": [
    "We used `id` for sorting the session actions but now we dont need it anymore."
   ]
  },
  {
   "cell_type": "code",
   "execution_count": 478,
   "metadata": {},
   "outputs": [],
   "source": [
    "min_actions=actions.drop('id',axis=1)"
   ]
  },
  {
   "cell_type": "markdown",
   "metadata": {},
   "source": [
    "Checking the amount of data we lose in aggreagtion. The session length is 25 so we are going loose all the session that are smaller than 25"
   ]
  },
  {
   "cell_type": "code",
   "execution_count": 480,
   "metadata": {},
   "outputs": [
    {
     "name": "stdout",
     "output_type": "stream",
     "text": [
      "sessionid\n",
      "0       26\n",
      "1       29\n",
      "2       25\n",
      "3       28\n",
      "4       27\n",
      "      ... \n",
      "470    100\n",
      "471    100\n",
      "472    100\n",
      "473    100\n",
      "474     14\n",
      "Length: 345, dtype: int64\n",
      "32101\n"
     ]
    },
    {
     "data": {
      "text/plain": [
       "sessionid    32290\n",
       "m_ticks      32290\n",
       "m_kart_id    32290\n",
       "m_action     32290\n",
       "m_value      32290\n",
       "m_value_l    32290\n",
       "m_value_r    32290\n",
       "class        32290\n",
       "dtype: int64"
      ]
     },
     "execution_count": 480,
     "metadata": {},
     "output_type": "execute_result"
    }
   ],
   "source": [
    "min_actions.describe()\n",
    "\n",
    "min_actions.head(27)\n",
    "print(min_actions.groupby(['sessionid'],axis=0).size())\n",
    "sum=0\n",
    "for i in min_actions.groupby(['sessionid'],axis=0).size():\n",
    "  #print(i,end='####')\n",
    "  if(i>25):\n",
    "    sum=sum+i\n",
    "print(sum)\n",
    "min_actions.count()"
   ]
  },
  {
   "cell_type": "markdown",
   "metadata": {},
   "source": [
    "Checking the size of sessions. Session is an ordered set of actions grouped by the sessiondid, the player kart id and the classification. \n",
    "\n",
    "Classification is set as 1 in case of human, and 0 as bot.\n",
    "\n",
    "The `sum` is the number of remaining data after aggregating on both the kartid and class."
   ]
  },
  {
   "cell_type": "code",
   "execution_count": 352,
   "metadata": {},
   "outputs": [
    {
     "name": "stdout",
     "output_type": "stream",
     "text": [
      "sessionid  m_kart_id  class\n",
      "0          0.0        1         13\n",
      "           1.0        1         13\n",
      "1          0.0        1         14\n",
      "           1.0        1         15\n",
      "2          0.0        1         14\n",
      "                              ... \n",
      "452        1.0        1         74\n",
      "453        0.0        3         60\n",
      "           1.0        1         40\n",
      "454        0.0        3        100\n",
      "455        0.0        3         28\n",
      "Length: 620, dtype: int64\n",
      "class\n",
      "0     3817\n",
      "1    26399\n",
      "3      188\n",
      "dtype: int64\n",
      "29617\n"
     ]
    }
   ],
   "source": [
    "print(min_actions.groupby(['sessionid','m_kart_id','class'],axis=0).size())\n",
    "print(min_actions.groupby(['class'],axis=0).size())\n",
    "sum=0\n",
    "for i in min_actions.groupby(['sessionid','m_kart_id','class'],axis=0).size():\n",
    "    #print(i,end='###')\n",
    "    if (i>=25):\n",
    "      sum=sum+i\n",
    "print(sum)"
   ]
  },
  {
   "cell_type": "markdown",
   "metadata": {},
   "source": [
    "Construct a dictonary based on `sessionid` and action classification `class`"
   ]
  },
  {
   "cell_type": "code",
   "execution_count": 482,
   "metadata": {},
   "outputs": [
    {
     "name": "stdout",
     "output_type": "stream",
     "text": [
      "32290\n"
     ]
    }
   ],
   "source": [
    "player_session_dict = {}\n",
    "i=0\n",
    "\n",
    "for index, row in min_actions.iterrows():\n",
    "  i=i+1\n",
    "  play_action_val=row['m_ticks'],row['m_action'],row['m_value'],row['m_value_l'],row['m_value_r']\n",
    "  play_action_key=row['sessionid'],row['m_kart_id'],row['class']\n",
    "  if(player_session_dict.get(play_action_key)):\n",
    "    session_list=player_session_dict[play_action_key]\n",
    "    session_list.append(play_action_val)\n",
    "    player_session_dict[play_action_key]=session_list \n",
    "  else:\n",
    "    session_list=[]\n",
    "    session_list.append(play_action_val)\n",
    "    player_session_dict[play_action_key]=session_list\n",
    "print(i)"
   ]
  },
  {
   "cell_type": "markdown",
   "metadata": {},
   "source": [
    "Check the session length (number of actions in a session)"
   ]
  },
  {
   "cell_type": "code",
   "execution_count": null,
   "metadata": {},
   "outputs": [],
   "source": [
    "sum=0\n",
    "for key in player_session_dict.keys():\n",
    "  if (len(player_session_dict[key])>=25):\n",
    "    print(len(player_session_dict[key]),end = '###')\n",
    "    sum=sum+len(player_session_dict[key])\n",
    "print()\n",
    "print(i)\n",
    "print(sum)\n",
    "len(player_session_dict)"
   ]
  },
  {
   "cell_type": "markdown",
   "metadata": {},
   "source": [
    "Transpose the dataframe to a new column strucutre that concatenates series of consecutive actions in a fixed size of 25"
   ]
  },
  {
   "cell_type": "code",
   "execution_count": 484,
   "metadata": {},
   "outputs": [
    {
     "data": {
      "text/plain": [
       "653"
      ]
     },
     "execution_count": 484,
     "metadata": {},
     "output_type": "execute_result"
    }
   ],
   "source": [
    "len(player_session_dict)"
   ]
  },
  {
   "cell_type": "code",
   "execution_count": 487,
   "metadata": {},
   "outputs": [
    {
     "name": "stdout",
     "output_type": "stream",
     "text": [
      "1003\n"
     ]
    }
   ],
   "source": [
    "import numpy as np\n",
    "session_len=25\n",
    "#a line in the array is five set of actions plus the classification \n",
    "size_of_arr_line=session_len*5+1\n",
    "sessions_array = np.zeros((1003,size_of_arr_line), dtype=float, order='C')\n",
    "\n",
    "i=0\n",
    "sum_of_actions=0\n",
    "for key in player_session_dict:\n",
    "  raw_session=player_session_dict[key]\n",
    "  #break the session into equal parts 25 actions long\n",
    "  sessions_list=[raw_session[i:i + session_len] for i in range(0, len(raw_session), session_len)]  \n",
    "  #every session has 25 action set\n",
    "  for session in sessions_list:\n",
    "    #including only the full sessions with excatly 25 actions\n",
    "    if(len(session)==session_len):\n",
    "      new_row=[]\n",
    "      for action in session:\n",
    "        new_row.append(action[0])\n",
    "        new_row.append(action[1])\n",
    "        new_row.append(action[2])\n",
    "        new_row.append(action[3])\n",
    "        new_row.append(action[4])\n",
    "      #add class field to the last column \n",
    "      new_row.append(key[2])\n",
    "      sessions_array[i]=np.asarray(new_row)\n",
    "      i=i+1 \n",
    "print(i)"
   ]
  },
  {
   "cell_type": "code",
   "execution_count": 489,
   "metadata": {},
   "outputs": [],
   "source": [
    "df=pd.DataFrame(sessions_array) "
   ]
  },
  {
   "cell_type": "code",
   "execution_count": 490,
   "metadata": {},
   "outputs": [
    {
     "data": {
      "text/html": [
       "<div>\n",
       "<style scoped>\n",
       "    .dataframe tbody tr th:only-of-type {\n",
       "        vertical-align: middle;\n",
       "    }\n",
       "\n",
       "    .dataframe tbody tr th {\n",
       "        vertical-align: top;\n",
       "    }\n",
       "\n",
       "    .dataframe thead th {\n",
       "        text-align: right;\n",
       "    }\n",
       "</style>\n",
       "<table border=\"1\" class=\"dataframe\">\n",
       "  <thead>\n",
       "    <tr style=\"text-align: right;\">\n",
       "      <th></th>\n",
       "      <th>0</th>\n",
       "      <th>1</th>\n",
       "      <th>2</th>\n",
       "      <th>3</th>\n",
       "      <th>4</th>\n",
       "      <th>5</th>\n",
       "      <th>6</th>\n",
       "      <th>7</th>\n",
       "      <th>8</th>\n",
       "      <th>9</th>\n",
       "      <th>...</th>\n",
       "      <th>116</th>\n",
       "      <th>117</th>\n",
       "      <th>118</th>\n",
       "      <th>119</th>\n",
       "      <th>120</th>\n",
       "      <th>121</th>\n",
       "      <th>122</th>\n",
       "      <th>123</th>\n",
       "      <th>124</th>\n",
       "      <th>125</th>\n",
       "    </tr>\n",
       "  </thead>\n",
       "  <tbody>\n",
       "    <tr>\n",
       "      <th>0</th>\n",
       "      <td>9114.0</td>\n",
       "      <td>1.0</td>\n",
       "      <td>3159.0</td>\n",
       "      <td>2218.0</td>\n",
       "      <td>-3296.0</td>\n",
       "      <td>9145.0</td>\n",
       "      <td>0.0</td>\n",
       "      <td>32768.0</td>\n",
       "      <td>2218.0</td>\n",
       "      <td>-3159.0</td>\n",
       "      <td>...</td>\n",
       "      <td>0.0</td>\n",
       "      <td>0.0</td>\n",
       "      <td>32768.0</td>\n",
       "      <td>0.0</td>\n",
       "      <td>1385.0</td>\n",
       "      <td>2.0</td>\n",
       "      <td>32768.0</td>\n",
       "      <td>0.0</td>\n",
       "      <td>0.0</td>\n",
       "      <td>1.0</td>\n",
       "    </tr>\n",
       "    <tr>\n",
       "      <th>1</th>\n",
       "      <td>1443.0</td>\n",
       "      <td>1.0</td>\n",
       "      <td>32768.0</td>\n",
       "      <td>0.0</td>\n",
       "      <td>0.0</td>\n",
       "      <td>1521.0</td>\n",
       "      <td>1.0</td>\n",
       "      <td>0.0</td>\n",
       "      <td>0.0</td>\n",
       "      <td>-32768.0</td>\n",
       "      <td>...</td>\n",
       "      <td>0.0</td>\n",
       "      <td>0.0</td>\n",
       "      <td>32768.0</td>\n",
       "      <td>0.0</td>\n",
       "      <td>3047.0</td>\n",
       "      <td>2.0</td>\n",
       "      <td>0.0</td>\n",
       "      <td>0.0</td>\n",
       "      <td>0.0</td>\n",
       "      <td>1.0</td>\n",
       "    </tr>\n",
       "    <tr>\n",
       "      <th>2</th>\n",
       "      <td>3967.0</td>\n",
       "      <td>0.0</td>\n",
       "      <td>32768.0</td>\n",
       "      <td>0.0</td>\n",
       "      <td>0.0</td>\n",
       "      <td>4082.0</td>\n",
       "      <td>2.0</td>\n",
       "      <td>32768.0</td>\n",
       "      <td>32768.0</td>\n",
       "      <td>0.0</td>\n",
       "      <td>...</td>\n",
       "      <td>0.0</td>\n",
       "      <td>32768.0</td>\n",
       "      <td>0.0</td>\n",
       "      <td>0.0</td>\n",
       "      <td>5361.0</td>\n",
       "      <td>0.0</td>\n",
       "      <td>0.0</td>\n",
       "      <td>32768.0</td>\n",
       "      <td>0.0</td>\n",
       "      <td>1.0</td>\n",
       "    </tr>\n",
       "    <tr>\n",
       "      <th>3</th>\n",
       "      <td>5420.0</td>\n",
       "      <td>1.0</td>\n",
       "      <td>32768.0</td>\n",
       "      <td>0.0</td>\n",
       "      <td>0.0</td>\n",
       "      <td>5480.0</td>\n",
       "      <td>1.0</td>\n",
       "      <td>0.0</td>\n",
       "      <td>0.0</td>\n",
       "      <td>-32768.0</td>\n",
       "      <td>...</td>\n",
       "      <td>1.0</td>\n",
       "      <td>0.0</td>\n",
       "      <td>0.0</td>\n",
       "      <td>-32768.0</td>\n",
       "      <td>7166.0</td>\n",
       "      <td>0.0</td>\n",
       "      <td>32768.0</td>\n",
       "      <td>0.0</td>\n",
       "      <td>0.0</td>\n",
       "      <td>1.0</td>\n",
       "    </tr>\n",
       "    <tr>\n",
       "      <th>4</th>\n",
       "      <td>7963.0</td>\n",
       "      <td>1.0</td>\n",
       "      <td>32768.0</td>\n",
       "      <td>32768.0</td>\n",
       "      <td>0.0</td>\n",
       "      <td>7964.0</td>\n",
       "      <td>0.0</td>\n",
       "      <td>0.0</td>\n",
       "      <td>32768.0</td>\n",
       "      <td>-32768.0</td>\n",
       "      <td>...</td>\n",
       "      <td>1.0</td>\n",
       "      <td>32768.0</td>\n",
       "      <td>0.0</td>\n",
       "      <td>0.0</td>\n",
       "      <td>9307.0</td>\n",
       "      <td>1.0</td>\n",
       "      <td>0.0</td>\n",
       "      <td>0.0</td>\n",
       "      <td>-32768.0</td>\n",
       "      <td>1.0</td>\n",
       "    </tr>\n",
       "  </tbody>\n",
       "</table>\n",
       "<p>5 rows × 126 columns</p>\n",
       "</div>"
      ],
      "text/plain": [
       "      0    1        2        3       4       5    6        7        8    \\\n",
       "0  9114.0  1.0   3159.0   2218.0 -3296.0  9145.0  0.0  32768.0   2218.0   \n",
       "1  1443.0  1.0  32768.0      0.0     0.0  1521.0  1.0      0.0      0.0   \n",
       "2  3967.0  0.0  32768.0      0.0     0.0  4082.0  2.0  32768.0  32768.0   \n",
       "3  5420.0  1.0  32768.0      0.0     0.0  5480.0  1.0      0.0      0.0   \n",
       "4  7963.0  1.0  32768.0  32768.0     0.0  7964.0  0.0      0.0  32768.0   \n",
       "\n",
       "       9    ...  116      117      118      119     120  121      122  \\\n",
       "0  -3159.0  ...  0.0      0.0  32768.0      0.0  1385.0  2.0  32768.0   \n",
       "1 -32768.0  ...  0.0      0.0  32768.0      0.0  3047.0  2.0      0.0   \n",
       "2      0.0  ...  0.0  32768.0      0.0      0.0  5361.0  0.0      0.0   \n",
       "3 -32768.0  ...  1.0      0.0      0.0 -32768.0  7166.0  0.0  32768.0   \n",
       "4 -32768.0  ...  1.0  32768.0      0.0      0.0  9307.0  1.0      0.0   \n",
       "\n",
       "       123      124  125  \n",
       "0      0.0      0.0  1.0  \n",
       "1      0.0      0.0  1.0  \n",
       "2  32768.0      0.0  1.0  \n",
       "3      0.0      0.0  1.0  \n",
       "4      0.0 -32768.0  1.0  \n",
       "\n",
       "[5 rows x 126 columns]"
      ]
     },
     "execution_count": 490,
     "metadata": {},
     "output_type": "execute_result"
    }
   ],
   "source": [
    "df.head()"
   ]
  },
  {
   "cell_type": "code",
   "execution_count": 491,
   "metadata": {},
   "outputs": [
    {
     "name": "stdout",
     "output_type": "stream",
     "text": [
      "125\n",
      "0.0    120\n",
      "1.0    883\n",
      "dtype: int64\n"
     ]
    },
    {
     "data": {
      "text/html": [
       "<div>\n",
       "<style scoped>\n",
       "    .dataframe tbody tr th:only-of-type {\n",
       "        vertical-align: middle;\n",
       "    }\n",
       "\n",
       "    .dataframe tbody tr th {\n",
       "        vertical-align: top;\n",
       "    }\n",
       "\n",
       "    .dataframe thead th {\n",
       "        text-align: right;\n",
       "    }\n",
       "</style>\n",
       "<table border=\"1\" class=\"dataframe\">\n",
       "  <thead>\n",
       "    <tr style=\"text-align: right;\">\n",
       "      <th></th>\n",
       "      <th>0</th>\n",
       "      <th>1</th>\n",
       "      <th>2</th>\n",
       "      <th>3</th>\n",
       "      <th>4</th>\n",
       "      <th>5</th>\n",
       "      <th>6</th>\n",
       "      <th>7</th>\n",
       "      <th>8</th>\n",
       "      <th>9</th>\n",
       "      <th>...</th>\n",
       "      <th>116</th>\n",
       "      <th>117</th>\n",
       "      <th>118</th>\n",
       "      <th>119</th>\n",
       "      <th>120</th>\n",
       "      <th>121</th>\n",
       "      <th>122</th>\n",
       "      <th>123</th>\n",
       "      <th>124</th>\n",
       "      <th>125</th>\n",
       "    </tr>\n",
       "  </thead>\n",
       "  <tbody>\n",
       "    <tr>\n",
       "      <th>0</th>\n",
       "      <td>9114.0</td>\n",
       "      <td>1.0</td>\n",
       "      <td>3159.0</td>\n",
       "      <td>2218.0</td>\n",
       "      <td>-3296.0</td>\n",
       "      <td>9145.0</td>\n",
       "      <td>0.0</td>\n",
       "      <td>32768.0</td>\n",
       "      <td>2218.0</td>\n",
       "      <td>-3159.0</td>\n",
       "      <td>...</td>\n",
       "      <td>0.0</td>\n",
       "      <td>0.0</td>\n",
       "      <td>32768.0</td>\n",
       "      <td>0.0</td>\n",
       "      <td>1385.0</td>\n",
       "      <td>2.0</td>\n",
       "      <td>32768.0</td>\n",
       "      <td>0.0</td>\n",
       "      <td>0.0</td>\n",
       "      <td>1.0</td>\n",
       "    </tr>\n",
       "  </tbody>\n",
       "</table>\n",
       "<p>1 rows × 126 columns</p>\n",
       "</div>"
      ],
      "text/plain": [
       "      0    1       2       3       4       5    6        7       8       9    \\\n",
       "0  9114.0  1.0  3159.0  2218.0 -3296.0  9145.0  0.0  32768.0  2218.0 -3159.0   \n",
       "\n",
       "   ...  116  117      118  119     120  121      122  123  124  125  \n",
       "0  ...  0.0  0.0  32768.0  0.0  1385.0  2.0  32768.0  0.0  0.0  1.0  \n",
       "\n",
       "[1 rows x 126 columns]"
      ]
     },
     "execution_count": 491,
     "metadata": {},
     "output_type": "execute_result"
    }
   ],
   "source": [
    "print(df.groupby(125,axis=0).size())\n",
    "df.head(1)"
   ]
  },
  {
   "cell_type": "markdown",
   "metadata": {},
   "source": [
    "To check if we did not loose data we need to multiple the number by 25"
   ]
  },
  {
   "cell_type": "code",
   "execution_count": 492,
   "metadata": {},
   "outputs": [
    {
     "data": {
      "text/plain": [
       "class\n",
       "0     3817\n",
       "1    28473\n",
       "dtype: int64"
      ]
     },
     "execution_count": 492,
     "metadata": {},
     "output_type": "execute_result"
    }
   ],
   "source": [
    "min_actions.groupby(['class'],axis=0).size()"
   ]
  },
  {
   "cell_type": "markdown",
   "metadata": {},
   "source": [
    "Check how much data was lost during transformation."
   ]
  },
  {
   "cell_type": "code",
   "execution_count": 493,
   "metadata": {},
   "outputs": [
    {
     "name": "stdout",
     "output_type": "stream",
     "text": [
      "0.03143830233167409\n",
      "0.031011835774242266\n"
     ]
    }
   ],
   "source": [
    "print(120/3817)\n",
    "print(883/28473)"
   ]
  },
  {
   "cell_type": "code",
   "execution_count": 494,
   "metadata": {},
   "outputs": [
    {
     "name": "stdout",
     "output_type": "stream",
     "text": [
      "RangeIndex(start=0, stop=126, step=1)\n",
      "feature_columns=RangeIndex(start=0, stop=125, step=1)\n",
      "label_column=125\n"
     ]
    }
   ],
   "source": [
    "print(df.columns)\n",
    "feature_columns = df.columns[:-1]\n",
    "label_column = df.columns[-1]\n",
    "\n",
    "print('feature_columns={}'.format(feature_columns))\n",
    "print('label_column={}'.format(label_column))\n",
    "\n",
    "features = df[feature_columns].values.astype('float32')\n",
    "labels = (df[label_column].values).astype('float32')"
   ]
  },
  {
   "cell_type": "markdown",
   "metadata": {},
   "source": [
    "### Prepare Data and Upload to S3"
   ]
  },
  {
   "cell_type": "code",
   "execution_count": 502,
   "metadata": {},
   "outputs": [],
   "source": [
    "import io\n",
    "import sagemaker.amazon.common as smac\n",
    "\n",
    "buf = io.BytesIO()\n",
    "smac.write_numpy_to_dense_tensor(buf, features, labels)\n",
    "buf.seek(0);"
   ]
  },
  {
   "cell_type": "markdown",
   "metadata": {},
   "source": [
    "Now we upload the data to S3 using boto3."
   ]
  },
  {
   "cell_type": "code",
   "execution_count": 503,
   "metadata": {},
   "outputs": [
    {
     "name": "stdout",
     "output_type": "stream",
     "text": [
      "Uploaded training data location: s3://stk-events/anticheat-model/train/recordio-pb-data\n",
      "Training artifacts will be uploaded to: s3://stk-events/anticheat-model/output\n"
     ]
    }
   ],
   "source": [
    "import boto3\n",
    "import os\n",
    "import sagemaker\n",
    "\n",
    "session = sagemaker.Session()\n",
    "bucket = 'stk-events'\n",
    "\n",
    "prefix = 'anticheat-model'\n",
    "key = 'recordio-pb-data'\n",
    "\n",
    "boto3.resource('s3').Bucket(bucket).Object(os.path.join(prefix, 'train', key)).upload_fileobj(buf)\n",
    "\n",
    "s3_train_data = 's3://{}/{}/train/{}'.format(bucket, prefix, key)\n",
    "print('Uploaded training data location: {}'.format(s3_train_data))\n",
    "\n",
    "output_location = 's3://{}/{}/output'.format(bucket, prefix)\n",
    "print('Training artifacts will be uploaded to: {}'.format(output_location))"
   ]
  },
  {
   "cell_type": "code",
   "execution_count": 504,
   "metadata": {},
   "outputs": [
    {
     "name": "stderr",
     "output_type": "stream",
     "text": [
      "'get_image_uri' method will be deprecated in favor of 'ImageURIProvider' class in SageMaker Python SDK v2.\n",
      "Parameter image_name will be renamed to image_uri in SageMaker Python SDK v2.\n",
      "'s3_input' class will be renamed to 'TrainingInput' in SageMaker Python SDK v2.\n"
     ]
    }
   ],
   "source": [
    "from sagemaker.amazon.amazon_estimator import get_image_uri\n",
    "\n",
    "container = get_image_uri(boto3.Session().region_name, 'linear-learner')\n",
    "\n",
    "from sagemaker import get_execution_role\n",
    "\n",
    "linear = sagemaker.estimator.Estimator(container,\n",
    "                                       get_execution_role(), \n",
    "                                       train_instance_count=1, \n",
    "                                       train_instance_type='ml.c4.xlarge',\n",
    "                                       output_path=output_location,\n",
    "                                       sagemaker_session=session)\n",
    "linear.set_hyperparameters(feature_dim=features.shape[1],\n",
    "                           predictor_type='binary_classifier',\n",
    "                           mini_batch_size=200)\n",
    "\n",
    "linear.fit({'train': s3_train_data},wait=False)"
   ]
  },
  {
   "cell_type": "markdown",
   "metadata": {},
   "source": [
    "# IGNORE THE BELOW"
   ]
  },
  {
   "cell_type": "markdown",
   "metadata": {},
   "source": [
    "Populate `actions_dict` with game sessions that are even set of player actions i.e.\n",
    "```\n",
    "sessionid --> {\n",
    "    {ticks,action,value,value_l,value_r,class},\n",
    "    {ticks,action,value,value_l,value_r,class},\n",
    "    ....\n",
    "    {ticks,action,value,value_l,value_r,class}\n",
    "}\n",
    "```"
   ]
  },
  {
   "cell_type": "code",
   "execution_count": 33,
   "metadata": {},
   "outputs": [],
   "source": [
    "actions_dict = {}\n",
    "\n",
    "for x in actions.values:\n",
    "  _grp=x[0]\n",
    "  _id=x[1]\n",
    "  _m_ticks=x[2]\n",
    "  _m_kart_id=x[3]\n",
    "  _m_action=x[4]\n",
    "  _m_value=x[5]\n",
    "  _m_value_l=x[6]\n",
    "  _m_value_r=x[7]\n",
    "  _class=x[8]\n",
    "  action = _m_ticks,_m_action,_m_value,_m_value_l,_m_value_r,_class\n",
    "  if(actions_dict.get(_grp)):\n",
    "    session_list.append(action)\n",
    "    actions_dict[_grp]=session_list\n",
    "  else:\n",
    "    session_list=[]\n",
    "    session_list.append(action)\n",
    "    actions_dict[_grp]=session_list"
   ]
  },
  {
   "cell_type": "code",
   "execution_count": null,
   "metadata": {},
   "outputs": [],
   "source": [
    "actions_dict[198]"
   ]
  },
  {
   "cell_type": "markdown",
   "metadata": {},
   "source": [
    "checking the size of each session i.e., the number of game event tuples in a session"
   ]
  },
  {
   "cell_type": "code",
   "execution_count": 472,
   "metadata": {},
   "outputs": [
    {
     "name": "stdout",
     "output_type": "stream",
     "text": [
      "sessionid -> size_of_session ### \n",
      "5.0 -> 155 ### 6.0 -> 155 ### 0.0 -> 155 ### 7.0 -> 155 ### 14.0 -> 155 ### 1.0 -> 155 ### 8.0 -> 155 ### 15.0 -> 155 ### 2.0 -> 155 ### 9.0 -> 155 ### 17.0 -> 155 ### 12.0 -> 155 ### 16.0 -> 155 ### 4.0 -> 155 ### 19.0 -> 155 ### 3.0 -> 155 ### 11.0 -> 155 ### 18.0 -> 155 ### 13.0 -> 155 ### 10.0 -> 155 ### "
     ]
    }
   ],
   "source": [
    "print('sessionid -> size_of_session ### ') \n",
    "for key in actions_dict:\n",
    "  print(key, '->', len(actions_dict[key]), end = ' ### ')"
   ]
  },
  {
   "cell_type": "markdown",
   "metadata": {},
   "source": [
    "Since we have fixed size of actions in a session, we convert the actions dictionary to a two dimensions array of `len(actions_dict)` and `actions_dict[key]`"
   ]
  },
  {
   "cell_type": "code",
   "execution_count": null,
   "metadata": {},
   "outputs": [],
   "source": [
    "session_length=155\n",
    "action_dim=6\n",
    "actions_array = np.zeros((len(actions_dict),session_length,action_dim), dtype=float, order='C')\n",
    "for key in actions_dict:\n",
    "    session_arr=np.array(actions_dict[key])\n",
    "    actions_array[int(key)]=session_arr\n",
    "\n",
    "#for i in actions_array[1]:\n",
    "#    print(i[0],i[1],i[2],i[3],i[4],i[5])\n",
    "actions_array[1]    \n",
    "#actions_array.reshape(-1,5)\n"
   ]
  },
  {
   "cell_type": "code",
   "execution_count": null,
   "metadata": {},
   "outputs": [],
   "source": [
    "from sagemaker import RandomCutForest\n",
    "\n",
    "session = sagemaker.Session()\n",
    "\n",
    "# specify general training job information\n",
    "rcf = RandomCutForest(role=execution_role,\n",
    "                      train_instance_count=1,\n",
    "                      train_instance_type='ml.m4.xlarge',\n",
    "                      data_location='s3://{}/{}/'.format(bucket, prefix),\n",
    "                      output_path='s3://{}/{}/output'.format(bucket, prefix),\n",
    "                      num_samples_per_tree=512,\n",
    "                      num_trees=50)\n",
    "\n",
    "# automatically upload the training data to S3 and run the training job\n",
    "\n",
    "rcf.fit(rcf.record_set(actions_array.reshape(-1,5)))\n",
    "job_name = rcf.latest_training_job.job_name\n",
    "print(\"Training job: %s\" % job_name)"
   ]
  },
  {
   "cell_type": "code",
   "execution_count": null,
   "metadata": {},
   "outputs": [],
   "source": [
    "for key in actions_dict:\n",
    "    print(key, '->')\n",
    "    print('(im_ticks,m_action,m_value,m_value_l,m_value_r,class)')\n",
    "    for action in actions_dict[key]:\n",
    "        print(action)"
   ]
  },
  {
   "cell_type": "code",
   "execution_count": 318,
   "metadata": {},
   "outputs": [
    {
     "data": {
      "text/plain": [
       "array([ 6.0000e+00,  6.0000e+00,  3.1000e+01,  0.0000e+00,  2.0000e+00,\n",
       "        3.2768e+04,  0.0000e+00, -4.4790e+03,  1.0000e+00])"
      ]
     },
     "execution_count": 318,
     "metadata": {},
     "output_type": "execute_result"
    }
   ],
   "source": []
  },
  {
   "cell_type": "markdown",
   "metadata": {},
   "source": [
    "## Training - Linear Regression "
   ]
  },
  {
   "cell_type": "code",
   "execution_count": null,
   "metadata": {},
   "outputs": [],
   "source": [
    "import io\n",
    "import sagemaker.amazon.common as smac\n",
    "\n",
    "buf = io.BytesIO()\n",
    "smac.write_numpy_to_dense_tensor(buf, features, labels)\n",
    "buf.seek(0);"
   ]
  },
  {
   "cell_type": "markdown",
   "metadata": {},
   "source": []
  },
  {
   "cell_type": "markdown",
   "metadata": {},
   "source": [
    "## Convert the data to Dataframes"
   ]
  },
  {
   "cell_type": "code",
   "execution_count": 105,
   "metadata": {},
   "outputs": [],
   "source": [
    "import pandas as pd\n",
    "bot_actions = pd.DataFrame(bot_action_list)\n",
    "player_actions = pd.DataFrame(player_action_list)\n",
    "actions = pd.DataFrame(action_list)"
   ]
  },
  {
   "cell_type": "code",
   "execution_count": 4,
   "metadata": {},
   "outputs": [],
   "source": [
    "bot_actions.rename(columns={0:'id',\n",
    "                            1:'m_ticks',\n",
    "                            2:'m_action',\n",
    "                            3:'m_value',\n",
    "                            4:'m_value_l',\n",
    "                            5:'m_value_r',\n",
    "                            6:'class'\n",
    "                           }, \n",
    "                 inplace=True)"
   ]
  },
  {
   "cell_type": "code",
   "execution_count": 5,
   "metadata": {},
   "outputs": [],
   "source": [
    "player_actions.rename(columns={0:'id',\n",
    "                            1:'m_ticks',\n",
    "                            2:'m_action',\n",
    "                            3:'m_value',\n",
    "                            4:'m_value_l',\n",
    "                            5:'m_value_r',\n",
    "                            6:'class'\n",
    "                           }, \n",
    "                 inplace=True)"
   ]
  },
  {
   "cell_type": "code",
   "execution_count": 107,
   "metadata": {},
   "outputs": [],
   "source": [
    "actions.rename(columns={0:'grp',\n",
    "                        1:'id',\n",
    "                        2:'m_ticks',\n",
    "                        3:'m_action',\n",
    "                        4:'m_value',\n",
    "                        5:'m_value_l',\n",
    "                        6:'m_value_r',\n",
    "                        7:'class'\n",
    "                     }, \n",
    "                 inplace=True)"
   ]
  },
  {
   "cell_type": "code",
   "execution_count": 318,
   "metadata": {},
   "outputs": [
    {
     "data": {
      "text/plain": [
       "RangeIndex(start=0, stop=7, step=1)"
      ]
     },
     "execution_count": 318,
     "metadata": {},
     "output_type": "execute_result"
    }
   ],
   "source": [
    "bot_actions.columns"
   ]
  },
  {
   "cell_type": "code",
   "execution_count": 321,
   "metadata": {},
   "outputs": [
    {
     "data": {
      "text/plain": [
       "RangeIndex(start=0, stop=7, step=1)"
      ]
     },
     "execution_count": 321,
     "metadata": {},
     "output_type": "execute_result"
    }
   ],
   "source": [
    "player_actions.columns"
   ]
  },
  {
   "cell_type": "code",
   "execution_count": 108,
   "metadata": {},
   "outputs": [
    {
     "data": {
      "text/plain": [
       "Index(['grp', 'id', 'm_ticks', 'm_action', 'm_value', 'm_value_l', 'm_value_r',\n",
       "       'class'],\n",
       "      dtype='object')"
      ]
     },
     "execution_count": 108,
     "metadata": {},
     "output_type": "execute_result"
    }
   ],
   "source": [
    "actions.columns"
   ]
  },
  {
   "cell_type": "code",
   "execution_count": 112,
   "metadata": {},
   "outputs": [
    {
     "data": {
      "text/html": [
       "<div>\n",
       "<style scoped>\n",
       "    .dataframe tbody tr th:only-of-type {\n",
       "        vertical-align: middle;\n",
       "    }\n",
       "\n",
       "    .dataframe tbody tr th {\n",
       "        vertical-align: top;\n",
       "    }\n",
       "\n",
       "    .dataframe thead th {\n",
       "        text-align: right;\n",
       "    }\n",
       "</style>\n",
       "<table border=\"1\" class=\"dataframe\">\n",
       "  <thead>\n",
       "    <tr style=\"text-align: right;\">\n",
       "      <th></th>\n",
       "      <th>grp</th>\n",
       "      <th>id</th>\n",
       "      <th>m_ticks</th>\n",
       "      <th>m_action</th>\n",
       "      <th>m_value</th>\n",
       "      <th>m_value_l</th>\n",
       "      <th>m_value_r</th>\n",
       "      <th>class</th>\n",
       "    </tr>\n",
       "  </thead>\n",
       "  <tbody>\n",
       "    <tr>\n",
       "      <th>0</th>\n",
       "      <td>5</td>\n",
       "      <td>5</td>\n",
       "      <td>31.0</td>\n",
       "      <td>1.0</td>\n",
       "      <td>4479.0</td>\n",
       "      <td>0.0</td>\n",
       "      <td>0.0</td>\n",
       "      <td>1</td>\n",
       "    </tr>\n",
       "    <tr>\n",
       "      <th>1</th>\n",
       "      <td>6</td>\n",
       "      <td>6</td>\n",
       "      <td>31.0</td>\n",
       "      <td>2.0</td>\n",
       "      <td>32768.0</td>\n",
       "      <td>0.0</td>\n",
       "      <td>-4479.0</td>\n",
       "      <td>1</td>\n",
       "    </tr>\n",
       "    <tr>\n",
       "      <th>2</th>\n",
       "      <td>7</td>\n",
       "      <td>7</td>\n",
       "      <td>31.0</td>\n",
       "      <td>1.0</td>\n",
       "      <td>2943.0</td>\n",
       "      <td>0.0</td>\n",
       "      <td>0.0</td>\n",
       "      <td>1</td>\n",
       "    </tr>\n",
       "    <tr>\n",
       "      <th>3</th>\n",
       "      <td>8</td>\n",
       "      <td>8</td>\n",
       "      <td>31.0</td>\n",
       "      <td>2.0</td>\n",
       "      <td>32768.0</td>\n",
       "      <td>0.0</td>\n",
       "      <td>-2943.0</td>\n",
       "      <td>1</td>\n",
       "    </tr>\n",
       "  </tbody>\n",
       "</table>\n",
       "</div>"
      ],
      "text/plain": [
       "   grp  id  m_ticks  m_action  m_value  m_value_l  m_value_r  class\n",
       "0    5   5     31.0       1.0   4479.0        0.0        0.0      1\n",
       "1    6   6     31.0       2.0  32768.0        0.0    -4479.0      1\n",
       "2    7   7     31.0       1.0   2943.0        0.0        0.0      1\n",
       "3    8   8     31.0       2.0  32768.0        0.0    -2943.0      1"
      ]
     },
     "execution_count": 112,
     "metadata": {},
     "output_type": "execute_result"
    }
   ],
   "source": [
    "actions.head(4)"
   ]
  },
  {
   "cell_type": "code",
   "execution_count": null,
   "metadata": {
    "scrolled": true
   },
   "outputs": [],
   "source": [
    "actions.describe()"
   ]
  },
  {
   "cell_type": "markdown",
   "metadata": {},
   "source": [
    "## Let's look for interesting data patterns"
   ]
  },
  {
   "cell_type": "code",
   "execution_count": 169,
   "metadata": {},
   "outputs": [],
   "source": [
    "import matplotlib.pyplot as plt\n",
    "import pandas as pd"
   ]
  },
  {
   "cell_type": "markdown",
   "metadata": {},
   "source": [
    "### Corralation between ticks in bots and humans"
   ]
  },
  {
   "cell_type": "code",
   "execution_count": 170,
   "metadata": {},
   "outputs": [
    {
     "data": {
      "image/png": "[encoded data removed]",
      "text/plain": [
       "<Figure size 432x288 with 1 Axes>"
      ]
     },
     "metadata": {
      "needs_background": "light"
     },
     "output_type": "display_data"
    }
   ],
   "source": [
    "bot_actions.plot(kind='scatter',x='id',y='m_ticks',color='red')\n",
    "plt.show()"
   ]
  },
  {
   "cell_type": "code",
   "execution_count": 171,
   "metadata": {},
   "outputs": [
    {
     "data": {
      "image/png": "[encoded data removed]",
      "text/plain": [
       "<Figure size 432x288 with 1 Axes>"
      ]
     },
     "metadata": {
      "needs_background": "light"
     },
     "output_type": "display_data"
    }
   ],
   "source": [
    "player_actions.plot(kind='scatter',x='id',y='m_ticks',color='blue')\n",
    "plt.show()"
   ]
  },
  {
   "cell_type": "markdown",
   "metadata": {},
   "source": [
    "We can see that `m_ticks` are random for humans and consistent for bots. "
   ]
  },
  {
   "cell_type": "markdown",
   "metadata": {},
   "source": [
    "### Correlation between action values in bots and humans"
   ]
  },
  {
   "cell_type": "code",
   "execution_count": 172,
   "metadata": {},
   "outputs": [
    {
     "data": {
      "image/png": "[encoded data removed]",
      "text/plain": [
       "<Figure size 432x288 with 1 Axes>"
      ]
     },
     "metadata": {
      "needs_background": "light"
     },
     "output_type": "display_data"
    }
   ],
   "source": [
    "bot_actions.plot(kind='scatter',x='id',y='m_value',color='red')\n",
    "plt.show()"
   ]
  },
  {
   "cell_type": "code",
   "execution_count": 173,
   "metadata": {},
   "outputs": [
    {
     "data": {
      "image/png": "[encoded data removed]",
      "text/plain": [
       "<Figure size 432x288 with 1 Axes>"
      ]
     },
     "metadata": {
      "needs_background": "light"
     },
     "output_type": "display_data"
    }
   ],
   "source": [
    "player_actions.plot(kind='scatter',x='id',y='m_value',color='blue')\n",
    "plt.show()"
   ]
  },
  {
   "cell_type": "markdown",
   "metadata": {},
   "source": [
    "We can see that bots perform more granular actions `m_value` as oppose to humans `m_value`s that tend to be sharper."
   ]
  },
  {
   "cell_type": "code",
   "execution_count": 186,
   "metadata": {},
   "outputs": [
    {
     "data": {
      "image/png": "[encoded data removed]",
      "text/plain": [
       "<Figure size 432x288 with 1 Axes>"
      ]
     },
     "metadata": {
      "needs_background": "light"
     },
     "output_type": "display_data"
    }
   ],
   "source": [
    "#bot_actions[100:110].plot(kind='bar',x='m_action',y='id')\n",
    "bot_actions.groupby('m_action')['m_value_l'].nunique().plot(kind='bar')\n",
    "plt.show()"
   ]
  },
  {
   "cell_type": "code",
   "execution_count": 185,
   "metadata": {},
   "outputs": [
    {
     "data": {
      "image/png": "[encoded data removed]",
      "text/plain": [
       "<Figure size 432x288 with 1 Axes>"
      ]
     },
     "metadata": {
      "needs_background": "light"
     },
     "output_type": "display_data"
    }
   ],
   "source": [
    "player_actions.groupby('m_action')['m_value_l'].nunique().plot(kind='bar')\n",
    "plt.show()"
   ]
  },
  {
   "cell_type": "markdown",
   "metadata": {},
   "source": [
    "## Prepare the data for RCF"
   ]
  },
  {
   "cell_type": "markdown",
   "metadata": {},
   "source": [
    "Going to aggregate game actions in `n` size chucks as game-action patterns for training so inference calls will be set of game actions by player to learn if the set represents a cheater of a human."
   ]
  },
  {
   "cell_type": "code",
   "execution_count": 75,
   "metadata": {},
   "outputs": [],
   "source": [
    "import pandas as pd\n",
    "\n",
    "group_size = 10  \n",
    "\n",
    "numbers = list(range(len(actions.index) // group_size)) * group_size\n",
    "numbers.sort()\n",
    "numbers = pd.Series(numbers)\n",
    "actions = pd.concat([actions, numbers], ignore_index=True, axis=1)\n",
    "actions.columns = ['id', 'm_ticks', 'm_action', 'm_value', 'm_value_l', 'm_value_r',\n",
    "       'class', 'group_number']\n",
    "\n",
    "grouped_actions = actions.groupby('group_number').filter(lambda x: len(x) == group_size)\n"
   ]
  },
  {
   "cell_type": "code",
   "execution_count": 76,
   "metadata": {},
   "outputs": [
    {
     "data": {
      "text/html": [
       "<div>\n",
       "<style scoped>\n",
       "    .dataframe tbody tr th:only-of-type {\n",
       "        vertical-align: middle;\n",
       "    }\n",
       "\n",
       "    .dataframe tbody tr th {\n",
       "        vertical-align: top;\n",
       "    }\n",
       "\n",
       "    .dataframe thead th {\n",
       "        text-align: right;\n",
       "    }\n",
       "</style>\n",
       "<table border=\"1\" class=\"dataframe\">\n",
       "  <thead>\n",
       "    <tr style=\"text-align: right;\">\n",
       "      <th></th>\n",
       "      <th>id</th>\n",
       "      <th>m_ticks</th>\n",
       "      <th>m_action</th>\n",
       "      <th>m_value</th>\n",
       "      <th>m_value_l</th>\n",
       "      <th>m_value_r</th>\n",
       "      <th>class</th>\n",
       "      <th>group_number</th>\n",
       "    </tr>\n",
       "  </thead>\n",
       "  <tbody>\n",
       "    <tr>\n",
       "      <th>count</th>\n",
       "      <td>22460.000000</td>\n",
       "      <td>22460.000000</td>\n",
       "      <td>22460.000000</td>\n",
       "      <td>22460.000000</td>\n",
       "      <td>22460.000000</td>\n",
       "      <td>22460.000000</td>\n",
       "      <td>22460.000000</td>\n",
       "      <td>22460.000000</td>\n",
       "    </tr>\n",
       "    <tr>\n",
       "      <th>mean</th>\n",
       "      <td>15594.184283</td>\n",
       "      <td>21819.256723</td>\n",
       "      <td>1.164381</td>\n",
       "      <td>14664.396572</td>\n",
       "      <td>7860.576714</td>\n",
       "      <td>-7794.692965</td>\n",
       "      <td>0.830321</td>\n",
       "      <td>1122.500000</td>\n",
       "    </tr>\n",
       "    <tr>\n",
       "      <th>std</th>\n",
       "      <td>10854.477746</td>\n",
       "      <td>15954.322683</td>\n",
       "      <td>1.767197</td>\n",
       "      <td>15684.167394</td>\n",
       "      <td>13376.042848</td>\n",
       "      <td>13482.819427</td>\n",
       "      <td>0.375359</td>\n",
       "      <td>648.378722</td>\n",
       "    </tr>\n",
       "    <tr>\n",
       "      <th>min</th>\n",
       "      <td>5.000000</td>\n",
       "      <td>0.000000</td>\n",
       "      <td>0.000000</td>\n",
       "      <td>0.000000</td>\n",
       "      <td>0.000000</td>\n",
       "      <td>-32768.000000</td>\n",
       "      <td>0.000000</td>\n",
       "      <td>0.000000</td>\n",
       "    </tr>\n",
       "    <tr>\n",
       "      <th>25%</th>\n",
       "      <td>7266.750000</td>\n",
       "      <td>7775.000000</td>\n",
       "      <td>0.000000</td>\n",
       "      <td>0.000000</td>\n",
       "      <td>0.000000</td>\n",
       "      <td>-7102.000000</td>\n",
       "      <td>1.000000</td>\n",
       "      <td>561.000000</td>\n",
       "    </tr>\n",
       "    <tr>\n",
       "      <th>50%</th>\n",
       "      <td>12881.500000</td>\n",
       "      <td>19345.000000</td>\n",
       "      <td>1.000000</td>\n",
       "      <td>3044.000000</td>\n",
       "      <td>0.000000</td>\n",
       "      <td>0.000000</td>\n",
       "      <td>1.000000</td>\n",
       "      <td>1122.500000</td>\n",
       "    </tr>\n",
       "    <tr>\n",
       "      <th>75%</th>\n",
       "      <td>18496.250000</td>\n",
       "      <td>33684.500000</td>\n",
       "      <td>1.000000</td>\n",
       "      <td>32768.000000</td>\n",
       "      <td>8694.000000</td>\n",
       "      <td>0.000000</td>\n",
       "      <td>1.000000</td>\n",
       "      <td>1684.000000</td>\n",
       "    </tr>\n",
       "    <tr>\n",
       "      <th>max</th>\n",
       "      <td>36922.000000</td>\n",
       "      <td>67293.000000</td>\n",
       "      <td>8.000000</td>\n",
       "      <td>32768.000000</td>\n",
       "      <td>32768.000000</td>\n",
       "      <td>0.000000</td>\n",
       "      <td>1.000000</td>\n",
       "      <td>2245.000000</td>\n",
       "    </tr>\n",
       "  </tbody>\n",
       "</table>\n",
       "</div>"
      ],
      "text/plain": [
       "                 id       m_ticks      m_action       m_value     m_value_l  \\\n",
       "count  22460.000000  22460.000000  22460.000000  22460.000000  22460.000000   \n",
       "mean   15594.184283  21819.256723      1.164381  14664.396572   7860.576714   \n",
       "std    10854.477746  15954.322683      1.767197  15684.167394  13376.042848   \n",
       "min        5.000000      0.000000      0.000000      0.000000      0.000000   \n",
       "25%     7266.750000   7775.000000      0.000000      0.000000      0.000000   \n",
       "50%    12881.500000  19345.000000      1.000000   3044.000000      0.000000   \n",
       "75%    18496.250000  33684.500000      1.000000  32768.000000   8694.000000   \n",
       "max    36922.000000  67293.000000      8.000000  32768.000000  32768.000000   \n",
       "\n",
       "          m_value_r         class  group_number  \n",
       "count  22460.000000  22460.000000  22460.000000  \n",
       "mean   -7794.692965      0.830321   1122.500000  \n",
       "std    13482.819427      0.375359    648.378722  \n",
       "min   -32768.000000      0.000000      0.000000  \n",
       "25%    -7102.000000      1.000000    561.000000  \n",
       "50%        0.000000      1.000000   1122.500000  \n",
       "75%        0.000000      1.000000   1684.000000  \n",
       "max        0.000000      1.000000   2245.000000  "
      ]
     },
     "execution_count": 76,
     "metadata": {},
     "output_type": "execute_result"
    }
   ],
   "source": [
    "grouped_actions.describe()"
   ]
  },
  {
   "cell_type": "code",
   "execution_count": 63,
   "metadata": {},
   "outputs": [
    {
     "data": {
      "text/plain": [
       "array([[ 5.0000e+00,  3.1000e+01,  1.0000e+00, ...,  0.0000e+00,\n",
       "         1.0000e+00,  0.0000e+00],\n",
       "       [ 6.0000e+00,  3.1000e+01,  2.0000e+00, ..., -4.4790e+03,\n",
       "         1.0000e+00,  0.0000e+00],\n",
       "       [ 7.0000e+00,  3.1000e+01,  1.0000e+00, ...,  0.0000e+00,\n",
       "         1.0000e+00,  0.0000e+00],\n",
       "       ...,\n",
       "       [ 3.6920e+04,  6.0171e+04,  1.0000e+00, ..., -2.1900e+02,\n",
       "         0.0000e+00,  2.2450e+03],\n",
       "       [ 3.6921e+04,  6.0202e+04,  1.0000e+00, ..., -2.5200e+02,\n",
       "         0.0000e+00,  2.2450e+03],\n",
       "       [ 3.6922e+04,  6.0233e+04,  1.0000e+00, ..., -2.9100e+02,\n",
       "         0.0000e+00,  2.2450e+03]])"
      ]
     },
     "execution_count": 63,
     "metadata": {},
     "output_type": "execute_result"
    }
   ],
   "source": [
    "grouped_actions.values"
   ]
  },
  {
   "cell_type": "code",
   "execution_count": 23,
   "metadata": {},
   "outputs": [
    {
     "data": {
      "text/plain": [
       "array([[ 5.0000e+00,  3.1000e+01,  1.0000e+00, ...,  0.0000e+00,\n",
       "         1.0000e+00,  0.0000e+00],\n",
       "       [ 6.0000e+00,  3.1000e+01,  2.0000e+00, ..., -4.4790e+03,\n",
       "         1.0000e+00,  0.0000e+00],\n",
       "       [ 7.0000e+00,  3.1000e+01,  1.0000e+00, ...,  0.0000e+00,\n",
       "         1.0000e+00,  0.0000e+00],\n",
       "       ...,\n",
       "       [ 3.6920e+04,  6.0171e+04,  1.0000e+00, ..., -2.1900e+02,\n",
       "         0.0000e+00,  2.2450e+03],\n",
       "       [ 3.6921e+04,  6.0202e+04,  1.0000e+00, ..., -2.5200e+02,\n",
       "         0.0000e+00,  2.2450e+03],\n",
       "       [ 3.6922e+04,  6.0233e+04,  1.0000e+00, ..., -2.9100e+02,\n",
       "         0.0000e+00,  2.2450e+03]])"
      ]
     },
     "execution_count": 23,
     "metadata": {},
     "output_type": "execute_result"
    }
   ],
   "source": [
    "grouped_actions.values"
   ]
  },
  {
   "cell_type": "code",
   "execution_count": 25,
   "metadata": {},
   "outputs": [
    {
     "data": {
      "text/html": [
       "<div>\n",
       "<style scoped>\n",
       "    .dataframe tbody tr th:only-of-type {\n",
       "        vertical-align: middle;\n",
       "    }\n",
       "\n",
       "    .dataframe tbody tr th {\n",
       "        vertical-align: top;\n",
       "    }\n",
       "\n",
       "    .dataframe thead th {\n",
       "        text-align: right;\n",
       "    }\n",
       "</style>\n",
       "<table border=\"1\" class=\"dataframe\">\n",
       "  <thead>\n",
       "    <tr style=\"text-align: right;\">\n",
       "      <th></th>\n",
       "      <th>id</th>\n",
       "      <th>m_ticks</th>\n",
       "      <th>m_action</th>\n",
       "      <th>m_value</th>\n",
       "      <th>m_value_l</th>\n",
       "      <th>m_value_r</th>\n",
       "      <th>class</th>\n",
       "      <th>group_number</th>\n",
       "    </tr>\n",
       "  </thead>\n",
       "  <tbody>\n",
       "    <tr>\n",
       "      <th>0</th>\n",
       "      <td>5</td>\n",
       "      <td>31.0</td>\n",
       "      <td>1.0</td>\n",
       "      <td>4479.0</td>\n",
       "      <td>0.0</td>\n",
       "      <td>0.0</td>\n",
       "      <td>1</td>\n",
       "      <td>0.0</td>\n",
       "    </tr>\n",
       "    <tr>\n",
       "      <th>1</th>\n",
       "      <td>6</td>\n",
       "      <td>31.0</td>\n",
       "      <td>2.0</td>\n",
       "      <td>32768.0</td>\n",
       "      <td>0.0</td>\n",
       "      <td>-4479.0</td>\n",
       "      <td>1</td>\n",
       "      <td>0.0</td>\n",
       "    </tr>\n",
       "    <tr>\n",
       "      <th>2</th>\n",
       "      <td>7</td>\n",
       "      <td>31.0</td>\n",
       "      <td>1.0</td>\n",
       "      <td>2943.0</td>\n",
       "      <td>0.0</td>\n",
       "      <td>0.0</td>\n",
       "      <td>1</td>\n",
       "      <td>0.0</td>\n",
       "    </tr>\n",
       "    <tr>\n",
       "      <th>3</th>\n",
       "      <td>8</td>\n",
       "      <td>31.0</td>\n",
       "      <td>2.0</td>\n",
       "      <td>32768.0</td>\n",
       "      <td>0.0</td>\n",
       "      <td>-2943.0</td>\n",
       "      <td>1</td>\n",
       "      <td>0.0</td>\n",
       "    </tr>\n",
       "    <tr>\n",
       "      <th>4</th>\n",
       "      <td>20</td>\n",
       "      <td>62.0</td>\n",
       "      <td>1.0</td>\n",
       "      <td>5423.0</td>\n",
       "      <td>0.0</td>\n",
       "      <td>-4479.0</td>\n",
       "      <td>1</td>\n",
       "      <td>0.0</td>\n",
       "    </tr>\n",
       "    <tr>\n",
       "      <th>...</th>\n",
       "      <td>...</td>\n",
       "      <td>...</td>\n",
       "      <td>...</td>\n",
       "      <td>...</td>\n",
       "      <td>...</td>\n",
       "      <td>...</td>\n",
       "      <td>...</td>\n",
       "      <td>...</td>\n",
       "    </tr>\n",
       "    <tr>\n",
       "      <th>22455</th>\n",
       "      <td>36916</td>\n",
       "      <td>60109.0</td>\n",
       "      <td>0.0</td>\n",
       "      <td>48.0</td>\n",
       "      <td>74.0</td>\n",
       "      <td>-158.0</td>\n",
       "      <td>0</td>\n",
       "      <td>2245.0</td>\n",
       "    </tr>\n",
       "    <tr>\n",
       "      <th>22456</th>\n",
       "      <td>36918</td>\n",
       "      <td>60140.0</td>\n",
       "      <td>1.0</td>\n",
       "      <td>219.0</td>\n",
       "      <td>48.0</td>\n",
       "      <td>-158.0</td>\n",
       "      <td>0</td>\n",
       "      <td>2245.0</td>\n",
       "    </tr>\n",
       "    <tr>\n",
       "      <th>22457</th>\n",
       "      <td>36920</td>\n",
       "      <td>60171.0</td>\n",
       "      <td>1.0</td>\n",
       "      <td>252.0</td>\n",
       "      <td>48.0</td>\n",
       "      <td>-219.0</td>\n",
       "      <td>0</td>\n",
       "      <td>2245.0</td>\n",
       "    </tr>\n",
       "    <tr>\n",
       "      <th>22458</th>\n",
       "      <td>36921</td>\n",
       "      <td>60202.0</td>\n",
       "      <td>1.0</td>\n",
       "      <td>291.0</td>\n",
       "      <td>48.0</td>\n",
       "      <td>-252.0</td>\n",
       "      <td>0</td>\n",
       "      <td>2245.0</td>\n",
       "    </tr>\n",
       "    <tr>\n",
       "      <th>22459</th>\n",
       "      <td>36922</td>\n",
       "      <td>60233.0</td>\n",
       "      <td>1.0</td>\n",
       "      <td>403.0</td>\n",
       "      <td>48.0</td>\n",
       "      <td>-291.0</td>\n",
       "      <td>0</td>\n",
       "      <td>2245.0</td>\n",
       "    </tr>\n",
       "  </tbody>\n",
       "</table>\n",
       "<p>22460 rows × 8 columns</p>\n",
       "</div>"
      ],
      "text/plain": [
       "          id  m_ticks  m_action  m_value  m_value_l  m_value_r  class  \\\n",
       "0          5     31.0       1.0   4479.0        0.0        0.0      1   \n",
       "1          6     31.0       2.0  32768.0        0.0    -4479.0      1   \n",
       "2          7     31.0       1.0   2943.0        0.0        0.0      1   \n",
       "3          8     31.0       2.0  32768.0        0.0    -2943.0      1   \n",
       "4         20     62.0       1.0   5423.0        0.0    -4479.0      1   \n",
       "...      ...      ...       ...      ...        ...        ...    ...   \n",
       "22455  36916  60109.0       0.0     48.0       74.0     -158.0      0   \n",
       "22456  36918  60140.0       1.0    219.0       48.0     -158.0      0   \n",
       "22457  36920  60171.0       1.0    252.0       48.0     -219.0      0   \n",
       "22458  36921  60202.0       1.0    291.0       48.0     -252.0      0   \n",
       "22459  36922  60233.0       1.0    403.0       48.0     -291.0      0   \n",
       "\n",
       "       group_number  \n",
       "0               0.0  \n",
       "1               0.0  \n",
       "2               0.0  \n",
       "3               0.0  \n",
       "4               0.0  \n",
       "...             ...  \n",
       "22455        2245.0  \n",
       "22456        2245.0  \n",
       "22457        2245.0  \n",
       "22458        2245.0  \n",
       "22459        2245.0  \n",
       "\n",
       "[22460 rows x 8 columns]"
      ]
     },
     "execution_count": 25,
     "metadata": {},
     "output_type": "execute_result"
    }
   ],
   "source": [
    "grouped_actions"
   ]
  },
  {
   "cell_type": "code",
   "execution_count": null,
   "metadata": {},
   "outputs": [],
   "source": [
    "grouped_actions.iloc[:,-1:].values.tolist()"
   ]
  },
  {
   "cell_type": "code",
   "execution_count": 47,
   "metadata": {},
   "outputs": [
    {
     "data": {
      "text/plain": [
       "array([[ 5.0000e+00,  3.1000e+01,  1.0000e+00, ...,  0.0000e+00,\n",
       "         0.0000e+00,  1.0000e+00],\n",
       "       [ 6.0000e+00,  3.1000e+01,  2.0000e+00, ...,  0.0000e+00,\n",
       "        -4.4790e+03,  1.0000e+00],\n",
       "       [ 7.0000e+00,  3.1000e+01,  1.0000e+00, ...,  0.0000e+00,\n",
       "         0.0000e+00,  1.0000e+00],\n",
       "       ...,\n",
       "       [ 3.6920e+04,  6.0171e+04,  1.0000e+00, ...,  4.8000e+01,\n",
       "        -2.1900e+02,  0.0000e+00],\n",
       "       [ 3.6921e+04,  6.0202e+04,  1.0000e+00, ...,  4.8000e+01,\n",
       "        -2.5200e+02,  0.0000e+00],\n",
       "       [ 3.6922e+04,  6.0233e+04,  1.0000e+00, ...,  4.8000e+01,\n",
       "        -2.9100e+02,  0.0000e+00]])"
      ]
     },
     "execution_count": 47,
     "metadata": {},
     "output_type": "execute_result"
    }
   ],
   "source": [
    "grouped_actions.iloc[:,:-1].values"
   ]
  },
  {
   "cell_type": "markdown",
   "metadata": {},
   "source": [
    "## NO NEED FOR NOW - Encode categorical data - not sure if I need to do it as m_action is already a number"
   ]
  },
  {
   "cell_type": "markdown",
   "metadata": {},
   "source": [
    "`m_action` is categorical data so we need to onehot encode it"
   ]
  },
  {
   "cell_type": "code",
   "execution_count": 116,
   "metadata": {},
   "outputs": [],
   "source": [
    "from sklearn.preprocessing import OneHotEncoder\n",
    "enc = OneHotEncoder(handle_unknown='ignore')\n",
    "enc.fit(bot_actions.m_action.values.reshape(-1, 1))\n",
    "enc.categories_\n",
    "bot_m_action_array=enc.transform(bot_actions.m_action.values.reshape(-1, 1)).toarray()"
   ]
  },
  {
   "cell_type": "code",
   "execution_count": 117,
   "metadata": {},
   "outputs": [
    {
     "data": {
      "text/plain": [
       "array([[0., 1., 0., 0., 0., 0.],\n",
       "       [0., 0., 1., 0., 0., 0.],\n",
       "       [1., 0., 0., 0., 0., 0.],\n",
       "       ...,\n",
       "       [1., 0., 0., 0., 0., 0.],\n",
       "       [1., 0., 0., 0., 0., 0.],\n",
       "       [1., 0., 0., 0., 0., 0.]])"
      ]
     },
     "execution_count": 117,
     "metadata": {},
     "output_type": "execute_result"
    }
   ],
   "source": [
    "bot_m_action_array"
   ]
  },
  {
   "cell_type": "code",
   "execution_count": 118,
   "metadata": {},
   "outputs": [],
   "source": [
    "from sklearn.preprocessing import OneHotEncoder\n",
    "enc = OneHotEncoder(handle_unknown='ignore')\n",
    "enc.fit(player_actions.m_action.values.reshape(-1, 1))\n",
    "enc.categories_\n",
    "player_m_action_array=enc.transform(player_actions.m_action.values.reshape(-1, 1)).toarray()"
   ]
  },
  {
   "cell_type": "code",
   "execution_count": 119,
   "metadata": {},
   "outputs": [
    {
     "data": {
      "text/plain": [
       "array([[0., 1., 0., 0., 0., 0.],\n",
       "       [0., 0., 1., 0., 0., 0.],\n",
       "       [0., 1., 0., 0., 0., 0.],\n",
       "       ...,\n",
       "       [0., 1., 0., 0., 0., 0.],\n",
       "       [0., 1., 0., 0., 0., 0.],\n",
       "       [0., 1., 0., 0., 0., 0.]])"
      ]
     },
     "execution_count": 119,
     "metadata": {},
     "output_type": "execute_result"
    }
   ],
   "source": [
    "player_m_action_array"
   ]
  }
 ],
 "metadata": {
  "kernelspec": {
   "display_name": "conda_pytorch_latest_p36",
   "language": "python",
   "name": "conda_pytorch_latest_p36"
  },
  "language_info": {
   "codemirror_mode": {
    "name": "ipython",
    "version": 3
   },
   "file_extension": ".py",
   "mimetype": "text/x-python",
   "name": "python",
   "nbconvert_exporter": "python",
   "pygments_lexer": "ipython3",
   "version": "3.6.10"
  }
 },
 "nbformat": 4,
 "nbformat_minor": 4
}
